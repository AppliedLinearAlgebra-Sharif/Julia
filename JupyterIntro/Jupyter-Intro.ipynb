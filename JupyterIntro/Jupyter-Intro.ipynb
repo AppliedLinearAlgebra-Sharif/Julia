{
 "cells": [
  {
   "cell_type": "markdown",
   "metadata": {},
   "source": [
    "# Jupyter NoteBook!"
   ]
  },
  {
   "cell_type": "markdown",
   "metadata": {},
   "source": [
    "## brief intro\n",
    "A Jupyter notebook is a document that supports mixing executable code, equations, visualizations, and narrative text. Specifically, Jupyter notebooks allow the user to bring together data, code, and prose, to tell an interactive, computational story. "
   ]
  },
  {
   "cell_type": "markdown",
   "metadata": {},
   "source": [
    "## cell types\n",
    "<br>\n",
    "<strong>\n",
    "1.Code <br>\n",
    "2.Markdown <br>\n",
    "</strong>\n",
    "3.Heading (Obselete) <br>\n",
    "4.NBC convert (Raw cell) <br>"
   ]
  },
  {
   "cell_type": "markdown",
   "metadata": {},
   "source": [
    "## keyboard shortcuts"
   ]
  },
  {
   "cell_type": "markdown",
   "metadata": {},
   "source": [
    "Check Help -> Keyboard shortcuts for all shortcuts!"
   ]
  },
  {
   "cell_type": "markdown",
   "metadata": {},
   "source": [
    "## some handy shortcuts:\n",
    "run current cell, insert below : Option + Return (for Mac) | Alt + Enter (for Window & Linux) \\\n",
    "run current cell, select below : Shift + Return (for Mac) | Shift + Enter (for Window & Linux) \\\n",
    "change cell type to markdown : esc + M \\\n",
    "change cell type to code : esc + Y\\\n",
    "delete cell : esc + DD (press D twice)\\\n",
    "save changes : Cmd + S (for Mac) | Ctrl + S (for Window & Linux)"
   ]
  },
  {
   "cell_type": "markdown",
   "metadata": {},
   "source": [
    "## LaTeX\n",
    "You can use LaTex commands in Markdown cells. mostly used for mathematical expressions. examples :"
   ]
  },
  {
   "cell_type": "markdown",
   "metadata": {},
   "source": [
    "$\\Huge\\int_a^b x^2\\;\\mathrm{d}x= \\tfrac{1}{3} x^3 \\Big|_a^b$"
   ]
  },
  {
   "cell_type": "markdown",
   "metadata": {},
   "source": [
    "$\\Large F_g = G \\frac{m_1 m_2}{r^2}$"
   ]
  },
  {
   "cell_type": "markdown",
   "metadata": {},
   "source": [
    "## HTML & CSS\n",
    "You can also run Raw HTML & CSS code in Markdown cells. Note that css embedded commands are not shown in github."
   ]
  },
  {
   "cell_type": "markdown",
   "metadata": {},
   "source": [
    "## some handy CSS commands for styling you markdowns:"
   ]
  },
  {
   "cell_type": "markdown",
   "metadata": {},
   "source": [
    "### 0.newline tag : $<br>$ . example:"
   ]
  },
  {
   "cell_type": "markdown",
   "metadata": {},
   "source": [
    "Applied Linear Algebra <br>\n",
    "Winter 1399 - Sharif University"
   ]
  },
  {
   "cell_type": "markdown",
   "metadata": {},
   "source": [
    "### 1.You can make Headings by adding #'s at the beginning of markdown cells or using css heading tags . examples:"
   ]
  },
  {
   "cell_type": "markdown",
   "metadata": {},
   "source": [
    "# Heading 1"
   ]
  },
  {
   "cell_type": "markdown",
   "metadata": {},
   "source": [
    "<h2> Heading 2</h2>"
   ]
  },
  {
   "cell_type": "markdown",
   "metadata": {},
   "source": [
    "### Heading 3"
   ]
  },
  {
   "cell_type": "markdown",
   "metadata": {},
   "source": [
    "### ..."
   ]
  },
  {
   "cell_type": "markdown",
   "metadata": {},
   "source": [
    "### 2.You can change your font color by surrouning text in $\\text{<font color=\"red\">Text</font>}$ tags.\n",
    "Parameter of <em>color</em> can be color name or #HexNumber. examples :"
   ]
  },
  {
   "cell_type": "markdown",
   "metadata": {},
   "source": [
    "<font color=\"red\">Sample Text</font><br>\n",
    "<font color=\"#9933ff\">Sample Text</font><br>\n",
    "<font color=\"##00cc99\">Sample Text</font><br>\n"
   ]
  },
  {
   "cell_type": "markdown",
   "metadata": {},
   "source": [
    "### 3.Bold text by surrounding it in $\\text{<Strong>Text</Strong>}$.example:"
   ]
  },
  {
   "cell_type": "markdown",
   "metadata": {},
   "source": [
    "### 4.Italicize text by surrounding it in $\\text{<em>Text</em>}$.example:"
   ]
  },
  {
   "cell_type": "markdown",
   "metadata": {},
   "source": [
    "### 5.Add image to your notebook by using $\\text{<img src=\"image path\">}$ command. example :"
   ]
  },
  {
   "cell_type": "markdown",
   "metadata": {},
   "source": [
    "<img src=\"Jupyter_logo.svg.png\" width=\"300px\" height =\"300px\">"
   ]
  },
  {
   "cell_type": "markdown",
   "metadata": {},
   "source": [
    "## Downloading NoteBook\n",
    "Check File -> Download as for downloading file in different formats.(.ipynb , .jl , ...)"
   ]
  },
  {
   "cell_type": "markdown",
   "metadata": {},
   "source": [
    "## refrences\n",
    "<a href=\"https://jupyter4edu.github.io/jupyter-edu-book/why-we-use-jupyter-notebooks.html#but-first-what-is-jupyter-notebook\">Teaching and Learning with Jupyter</a> <br>\n",
    "<a href = \"www.markdownguide.org/basic-syntax/\">MarkDown Guide</a> <br>\n",
    "<a href = https://www.w3schools.com>W3Schools</a> <br>\n",
    "<a href = https://www.w3schools.com/colors/colors_picker.asp>HTML Color Picker</a> <br>"
   ]
  }
 ],
 "metadata": {
  "kernelspec": {
   "display_name": "Julia 1.5.3",
   "language": "julia",
   "name": "julia-1.5"
  },
  "language_info": {
   "file_extension": ".jl",
   "mimetype": "application/julia",
   "name": "julia",
   "version": "1.5.3"
  }
 },
 "nbformat": 4,
 "nbformat_minor": 4
}
