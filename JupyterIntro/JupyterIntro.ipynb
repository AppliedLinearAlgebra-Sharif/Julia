{
 "cells": [
  {
   "cell_type": "markdown",
   "metadata": {},
   "source": [
    "<h1 style=\"font-size:3vw;\" >Jupyter NoteBook!</h1>"
   ]
  },
  {
   "cell_type": "markdown",
   "metadata": {},
   "source": [
    "# <font>brief intro</font>\n",
    "A Jupyter notebook is a document that supports mixing executable code, equations, visualizations, and narrative text. Specifically, Jupyter notebooks allow the user to bring together data, code, and prose, to tell an interactive, computational story. "
   ]
  },
  {
   "cell_type": "markdown",
   "metadata": {},
   "source": [
    "# <font color=\"3366ff\">cell types</font>\n",
    "<br>\n",
    "<strong>\n",
    "1.Code <br>\n",
    "2.Markdown <br>\n",
    "</strong>\n",
    "<font color=\"gray\">\n",
    "3.Heading (Obselete) <br>\n",
    "4.NBC convert (Raw cell) <br>\n",
    "</font>"
   ]
  },
  {
   "cell_type": "markdown",
   "metadata": {},
   "source": [
    "# <font color=\"3366ff\">keyboard shortcuts</font> "
   ]
  },
  {
   "cell_type": "markdown",
   "metadata": {},
   "source": [
    "Check <font color=\"red\"><Strong>Help -> Keyboard shortcuts</Strong></font> for all shortcuts!"
   ]
  },
  {
   "cell_type": "markdown",
   "metadata": {},
   "source": [
    "## some handy shortcuts:\n",
    "run current cell, insert below : <font color=\"#3399ff\">Option + Return (for Mac) | Alt + Enter (for Window & Linux)</font> \\\n",
    "run current cell, select below : <font color=\"#3399ff\">Shift + Return (for Mac) | Shift + Enter (for Window & Linux)</font> \\\n",
    "change cell type to markdown : <font color=\"#3399ff\">esc + M</font> \\\n",
    "change cell type to code : <font color=\"#3399ff\">esc + Y</font>\\\n",
    "delete cell : <font color=\"#3399ff\">esc + DD (press D twice)</font>\\\n",
    "save changes : <font color=\"#3399ff\">Cmd + S (for Mac) | Ctrl + S (for Window & Linux)</font>"
   ]
  },
  {
   "cell_type": "markdown",
   "metadata": {},
   "source": [
    "# <font color=\"3366ff\">LaTeX</font>\n",
    "You can use LaTex commands in Markdown cells. mostly used for mathematical expressions. examples :"
   ]
  },
  {
   "cell_type": "markdown",
   "metadata": {},
   "source": [
    "$\\Huge\\int_a^b x^2\\;\\mathrm{d}x= \\tfrac{1}{3} x^3 \\Big|_a^b$"
   ]
  },
  {
   "cell_type": "markdown",
   "metadata": {},
   "source": [
    "$\\Large F_g = G \\frac{m_1 m_2}{r^2}$"
   ]
  },
  {
   "cell_type": "markdown",
   "metadata": {},
   "source": [
    "# <font color=\"3366ff\">HTML & CSS</font>\n",
    "You can also run Raw HTML & CSS code in Markdown cells."
   ]
  },
  {
   "cell_type": "markdown",
   "metadata": {},
   "source": [
    "## some handy CSS commands for styling you markdowns:"
   ]
  },
  {
   "cell_type": "markdown",
   "metadata": {},
   "source": [
    "### 0.newline tag : $<br>$ . example:"
   ]
  },
  {
   "cell_type": "markdown",
   "metadata": {},
   "source": [
    "Applied Linear Algebra <br>\n",
    "Winter 1399 - Sharif University"
   ]
  },
  {
   "cell_type": "markdown",
   "metadata": {},
   "source": [
    "### 1.You can make Headings by adding #'s at the beginning of markdown cells or using css heading tags . examples:"
   ]
  },
  {
   "cell_type": "markdown",
   "metadata": {},
   "source": [
    "# Heading 1"
   ]
  },
  {
   "cell_type": "markdown",
   "metadata": {},
   "source": [
    "<h2> Heading 2</h2>"
   ]
  },
  {
   "cell_type": "markdown",
   "metadata": {},
   "source": [
    "### Heading 3"
   ]
  },
  {
   "cell_type": "markdown",
   "metadata": {},
   "source": [
    "### ..."
   ]
  },
  {
   "cell_type": "markdown",
   "metadata": {},
   "source": [
    "### 2.You can change your font color by surrouning text in $\\text{<font color=\"red\">Text</font>}$ tags.\n",
    "Parameter of <em>color</em> can be color name or #HexNumber. examples :"
   ]
  },
  {
   "cell_type": "markdown",
   "metadata": {},
   "source": [
    "<font color=\"red\">Sample Text</font><br>\n",
    "<font color=\"#9933ff\">Sample Text</font><br>\n",
    "<font color=\"##00cc99\">Sample Text</font><br>\n"
   ]
  },
  {
   "cell_type": "markdown",
   "metadata": {},
   "source": [
    "### 3.Bold text by surrounding it in $\\text{<Strong>Text</Strong>}$.example:"
   ]
  },
  {
   "cell_type": "markdown",
   "metadata": {},
   "source": [
    "Not Bold - <Strong>Bold</Strong>"
   ]
  },
  {
   "cell_type": "markdown",
   "metadata": {},
   "source": [
    "### 4.Italicize text by surrounding it in $\\text{<em>Text</em>}$.example:"
   ]
  },
  {
   "cell_type": "markdown",
   "metadata": {},
   "source": [
    "Not Italic - <em>Italic</em>"
   ]
  },
  {
   "cell_type": "markdown",
   "metadata": {},
   "source": [
    "### 5.Add image to your notebook by using $\\text{<img src=\"image path\">}$ command. example :"
   ]
  },
  {
   "cell_type": "markdown",
   "metadata": {},
   "source": [
    "<img src=\"Jupyter_logo.svg.png\" width=\"300px\" height =\"300px\">"
   ]
  },
  {
   "cell_type": "markdown",
   "metadata": {},
   "source": [
    "# <font color=\"3366ff\">Downloading NoteBook </font> \n",
    "Check <font color=\"red\"><Strong>File -> Download as</Strong></font> for downloading file in different formats.(.ipynb , .jl , ...)"
   ]
  },
  {
   "cell_type": "markdown",
   "metadata": {},
   "source": [
    "# <font color=\"3366ff\">refrences</font> \n",
    "<a href=\"https://jupyter4edu.github.io/jupyter-edu-book/why-we-use-jupyter-notebooks.html#but-first-what-is-jupyter-notebook\">Teaching and Learning with Jupyter</a> <br>\n",
    "<a href = \"www.markdownguide.org/basic-syntax/\">MarkDown Guide</a> <br>\n",
    "<a href = https://www.w3schools.com>W3Schools</a> <br>\n",
    "<a href = https://www.w3schools.com/colors/colors_picker.asp>HTML Color Picker</a> <br>"
   ]
  }
 ],
 "metadata": {
  "kernelspec": {
   "display_name": "Julia 1.5.3",
   "language": "julia",
   "name": "julia-1.5"
  },
  "language_info": {
   "file_extension": ".jl",
   "mimetype": "application/julia",
   "name": "julia",
   "version": "1.5.3"
  }
 },
 "nbformat": 4,
 "nbformat_minor": 4
}
